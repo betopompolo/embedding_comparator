{
 "cells": [
  {
   "cell_type": "code",
   "execution_count": 1,
   "metadata": {},
   "outputs": [],
   "source": [
    "import pandas as pd"
   ]
  },
  {
   "cell_type": "code",
   "execution_count": 3,
   "metadata": {},
   "outputs": [],
   "source": [
    "queries_df = pd.read_csv('/Users/beto/Projects/embedding_comparator/datasets/code_search_net_queries.csv', names=['Language','Query','GitHubUrl','Relevance','Notes'])"
   ]
  },
  {
   "cell_type": "code",
   "execution_count": 6,
   "metadata": {},
   "outputs": [
    {
     "data": {
      "text/plain": [
       "{'Java': 813,\n",
       " 'Go': 166,\n",
       " 'JavaScript': 319,\n",
       " 'PHP': 314,\n",
       " 'Python': 2079,\n",
       " 'Ruby': 315}"
      ]
     },
     "execution_count": 6,
     "metadata": {},
     "output_type": "execute_result"
    }
   ],
   "source": [
    "dataset_lens = {\n",
    "  'Java': len(queries_df[queries_df[\"Language\"]==\"Java\"]),\n",
    "  'Go': len(queries_df[queries_df[\"Language\"]==\"Go\"]),\n",
    "  'JavaScript': len(queries_df[queries_df[\"Language\"]==\"JavaScript\"]),\n",
    "  'PHP': len(queries_df[queries_df[\"Language\"]==\"PHP\"]),\n",
    "  'Python': len(queries_df[queries_df[\"Language\"]==\"Python\"]),\n",
    "  'Ruby': len(queries_df[queries_df[\"Language\"]==\"Ruby\"]),\n",
    "}\n",
    "dataset_lens\n"
   ]
  },
  {
   "cell_type": "code",
   "execution_count": null,
   "metadata": {},
   "outputs": [],
   "source": []
  }
 ],
 "metadata": {
  "kernelspec": {
   "display_name": "base",
   "language": "python",
   "name": "python3"
  },
  "language_info": {
   "codemirror_mode": {
    "name": "ipython",
    "version": 3
   },
   "file_extension": ".py",
   "mimetype": "text/x-python",
   "name": "python",
   "nbconvert_exporter": "python",
   "pygments_lexer": "ipython3",
   "version": "3.10.9"
  },
  "orig_nbformat": 4
 },
 "nbformat": 4,
 "nbformat_minor": 2
}
