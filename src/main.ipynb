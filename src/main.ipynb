{
 "cells": [
  {
   "cell_type": "code",
   "execution_count": null,
   "metadata": {},
   "outputs": [],
   "source": [
    "import os\n",
    "import random\n",
    "from typing import List\n",
    "import more_itertools\n",
    "\n",
    "from embedding_comparator import EmbeddingComparator\n",
    "\n",
    "from embedding_generator import EmbeddingGenerator\n",
    "from models import CodeCommentPair\n",
    "os.environ['TF_CPP_MIN_LOG_LEVEL'] = '2'\n",
    "import tensorflow as tf\n",
    "import orjson\n",
    "from transformers import AutoTokenizer, TFAutoModel, logging, AutoConfig\n",
    "logging.set_verbosity_error()"
   ]
  },
  {
   "cell_type": "code",
   "execution_count": null,
   "metadata": {},
   "outputs": [],
   "source": [
    "negative_samples_count = 1\n",
    "batch_size = 64\n",
    "seq_len = 512\n",
    "hidden_size = 768\n",
    "dataset_len = {\n",
    "    \"test\": {\n",
    "        \"java\": 26880,\n",
    "        \"python\": 22144\n",
    "    },\n",
    "    \"train\": {\n",
    "        \"java\": 256,\n",
    "        \"python\": 256\n",
    "    },\n",
    "    \"valid\": {\n",
    "        \"java\": 15296,\n",
    "        \"python\": 23104\n",
    "    }\n",
    "}"
   ]
  },
  {
   "cell_type": "code",
   "execution_count": null,
   "metadata": {},
   "outputs": [],
   "source": []
  }
 ],
 "metadata": {
  "language_info": {
   "name": "python"
  },
  "orig_nbformat": 4
 },
 "nbformat": 4,
 "nbformat_minor": 2
}
