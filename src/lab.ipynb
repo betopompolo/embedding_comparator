{
 "cells": [
  {
   "cell_type": "code",
   "execution_count": 1,
   "metadata": {},
   "outputs": [
    {
     "name": "stderr",
     "output_type": "stream",
     "text": [
      "/Users/beto/miniconda3/lib/python3.10/site-packages/tqdm/auto.py:21: TqdmWarning: IProgress not found. Please update jupyter and ipywidgets. See https://ipywidgets.readthedocs.io/en/stable/user_install.html\n",
      "  from .autonotebook import tqdm as notebook_tqdm\n"
     ]
    }
   ],
   "source": [
    "import os\n",
    "import logging\n",
    "from transformers import logging as transformers_logging\n",
    "import tensorflow as tf\n",
    "from mongo_db_client import MongoDbClient\n",
    "from embedding_dataset import EmbeddingDataset\n",
    "import numpy as np\n",
    "from embedding_generator import EmbeddingGenerator\n",
    "\n",
    "os.environ['TF_CPP_MIN_LOG_LEVEL'] = '3'\n",
    "tf.get_logger().setLevel(logging.ERROR)\n",
    "tf.autograph.set_verbosity(0)\n",
    "tf.compat.v1.logging.set_verbosity(tf.compat.v1.logging.ERROR)\n",
    "transformers_logging.set_verbosity_error()"
   ]
  },
  {
   "cell_type": "code",
   "execution_count": 2,
   "metadata": {},
   "outputs": [
    {
     "name": "stdout",
     "output_type": "stream",
     "text": [
      "train not found: 0\n",
      "test not found: 0\n",
      "valid not found: 0\n"
     ]
    }
   ],
   "source": [
    "def get_not_fount_count(pairs):\n",
    "  not_found = 0\n",
    "  with EmbeddingDataset('embeddings', '../datasets/embeddings/') as embedding_db:\n",
    "    for pair in pairs:\n",
    "      if embedding_db.get(pair['id']) is None:\n",
    "        not_found += 1\n",
    "  return not_found\n",
    "\n",
    "mongo_db = MongoDbClient()\n",
    "train_not_found = get_not_fount_count(mongo_db.get_pairs_collection().find({\"language\": 'python', 'partition': 'train'}).limit(20000))\n",
    "test_not_found = get_not_fount_count(mongo_db.get_pairs_collection().find({\"language\": 'python', 'partition': 'test'}).limit(4000))\n",
    "valid_not_found = get_not_fount_count(mongo_db.get_pairs_collection().find({\"language\": 'python', 'partition': 'valid'}).limit(4000))\n",
    "print(f'train not found: {train_not_found}')\n",
    "print(f'test not found: {test_not_found}')\n",
    "print(f'valid not found: {valid_not_found}')"
   ]
  },
  {
   "cell_type": "code",
   "execution_count": null,
   "metadata": {},
   "outputs": [],
   "source": []
  }
 ],
 "metadata": {
  "kernelspec": {
   "display_name": "base",
   "language": "python",
   "name": "python3"
  },
  "language_info": {
   "codemirror_mode": {
    "name": "ipython",
    "version": 3
   },
   "file_extension": ".py",
   "mimetype": "text/x-python",
   "name": "python",
   "nbconvert_exporter": "python",
   "pygments_lexer": "ipython3",
   "version": "3.10.9"
  },
  "orig_nbformat": 4
 },
 "nbformat": 4,
 "nbformat_minor": 2
}
