{
 "cells": [
  {
   "cell_type": "code",
   "execution_count": 1,
   "metadata": {},
   "outputs": [
    {
     "name": "stderr",
     "output_type": "stream",
     "text": [
      "/Users/beto/miniconda3/lib/python3.10/site-packages/tqdm/auto.py:21: TqdmWarning: IProgress not found. Please update jupyter and ipywidgets. See https://ipywidgets.readthedocs.io/en/stable/user_install.html\n",
      "  from .autonotebook import tqdm as notebook_tqdm\n"
     ]
    }
   ],
   "source": [
    "import logging\n",
    "from datetime import datetime\n",
    "from transformers import AutoTokenizer, TFAutoModel, logging as transformers_logging\n",
    "import tensorflow as tf\n",
    "import os\n",
    "import numpy as np\n",
    "from tqdm import tqdm\n",
    "from typing import Dict, Literal, List, Iterator\n",
    "from keras import Model, Sequential, callbacks\n",
    "from keras.layers import Dense, Input, Concatenate, Dot\n",
    "from keras.losses import Loss\n",
    "from keras.utils import losses_utils\n",
    "from keras.metrics import BinaryAccuracy, Precision, Recall\n",
    "from keras.optimizers import Adam\n",
    "from mongo_db_client import MongoDbClient\n",
    "from models import MongoDbPairDoc\n",
    "import more_itertools\n",
    "import random"
   ]
  },
  {
   "cell_type": "code",
   "execution_count": 2,
   "metadata": {},
   "outputs": [],
   "source": [
    "os.environ['TF_CPP_MIN_LOG_LEVEL'] = '3'\n",
    "tf.get_logger().setLevel(logging.ERROR)\n",
    "tf.autograph.set_verbosity(0)\n",
    "tf.compat.v1.logging.set_verbosity(tf.compat.v1.logging.ERROR)\n",
    "transformers_logging.set_verbosity_error()"
   ]
  },
  {
   "cell_type": "markdown",
   "metadata": {},
   "source": [
    "# Utils"
   ]
  },
  {
   "cell_type": "code",
   "execution_count": 3,
   "metadata": {},
   "outputs": [],
   "source": [
    "random.seed(42)\n",
    "\n",
    "def shuffle(list: List) -> List:\n",
    "  shuffled_list = list.copy()\n",
    "  random.shuffle(shuffled_list)\n",
    "  return shuffled_list"
   ]
  },
  {
   "cell_type": "markdown",
   "metadata": {},
   "source": [
    "## Generate embeddings from sentences"
   ]
  },
  {
   "cell_type": "code",
   "execution_count": 4,
   "metadata": {},
   "outputs": [],
   "source": [
    "class EmbeddingGenerator:\n",
    "  def __init__(self, code_embedding_model=\"microsoft/codebert-base\", comment_embedding_model=\"bert-large-uncased\") -> None:\n",
    "    self.embedding_max_length = 256\n",
    "    self.comment_embedding_model = comment_embedding_model\n",
    "    self.code_embedding_model = code_embedding_model\n",
    "\n",
    "  def from_pairs(self, pairs: List[MongoDbPairDoc], batch_size=100) -> Iterator:\n",
    "    for batch_pairs in more_itertools.chunked(pairs, batch_size):\n",
    "      codes = [self.__pre_process_tokens(pair['code_tokens']) for pair in batch_pairs]\n",
    "      comments = [self.__pre_process_tokens(pair['comment_tokens']) for pair in batch_pairs]\n",
    "\n",
    "      codes_embeddings = self.from_sentences(\n",
    "        sentences=codes,\n",
    "        model=TFAutoModel.from_pretrained(self.code_embedding_model),\n",
    "        tokenizer=AutoTokenizer.from_pretrained(self.code_embedding_model)\n",
    "      )\n",
    "      comments_embeddings = self.from_sentences(\n",
    "        sentences=comments,\n",
    "        model=TFAutoModel.from_pretrained(self.comment_embedding_model),\n",
    "        tokenizer=AutoTokenizer.from_pretrained(self.comment_embedding_model)\n",
    "      )\n",
    "\n",
    "      yield (codes_embeddings, comments_embeddings)\n",
    "\n",
    "  def from_sentences(self, sentences: List[str], tokenizer, model):\n",
    "      encoded_input = tokenizer(\n",
    "          sentences, \n",
    "          padding='max_length', \n",
    "          max_length=self.embedding_max_length,\n",
    "          truncation=True, \n",
    "          return_tensors='tf',\n",
    "      )\n",
    "      model_output = model(**encoded_input, return_dict=True)\n",
    "\n",
    "      embeddings = self.__mean_pooling(model_output, encoded_input['attention_mask'])\n",
    "      embeddings = tf.math.l2_normalize(embeddings, axis=1)\n",
    "      return embeddings\n",
    "  \n",
    "  def __mean_pooling(self, model_output, attention_mask):\n",
    "    token_embeddings = model_output.last_hidden_state\n",
    "    input_mask_expanded = tf.cast(tf.tile(tf.expand_dims(attention_mask, -1), [1, 1, token_embeddings.shape[-1]]), tf.float32)\n",
    "    return tf.math.reduce_sum(token_embeddings * input_mask_expanded, 1) / tf.math.maximum(tf.math.reduce_sum(input_mask_expanded, 1), 1e-9)\n",
    "  \n",
    "  def __pre_process_tokens(self, tokens) -> str:\n",
    "    parsed = ' '.join(tokens).replace('\\n', ' ')\n",
    "    parsed = ' '.join(parsed.strip().split())\n",
    "    return parsed"
   ]
  },
  {
   "cell_type": "markdown",
   "metadata": {},
   "source": [
    "# Create an embedding dataset"
   ]
  },
  {
   "cell_type": "code",
   "execution_count": 5,
   "metadata": {},
   "outputs": [],
   "source": [
    "class EmbeddingDataset:\n",
    "  def __init__(self, dataset_dir='../datasets/embeddings/') -> None:\n",
    "    self.dataset_dir = dataset_dir\n",
    "    self.embedding_generator = EmbeddingGenerator()\n",
    "\n",
    "  def save(self, pairs: List[MongoDbPairDoc]):\n",
    "    stored_pairs_ids = { pair_id.replace('.npy', ''): \"\" for pair_id in os.listdir(self.dataset_dir) if pair_id.endswith('.npy') }\n",
    "    pairs_to_save = [pair for pair in pairs if str(pair['_id']) not in stored_pairs_ids]\n",
    "    pairs_to_save_count = len(pairs_to_save)\n",
    "    pair_index = 0\n",
    "\n",
    "    with tqdm(total=pairs_to_save_count, desc=f\"Saving {pairs_to_save_count} pairs into embedding dataset\") as progress_bar:\n",
    "      for code_embeddings, comment_embeddings in self.embedding_generator.from_pairs(pairs_to_save):\n",
    "        for code_embedding, comment_embedding in zip(code_embeddings, comment_embeddings):\n",
    "          pair = pairs_to_save[pair_index]\n",
    "          np.save(os.path.join(self.dataset_dir, f'{pair[\"_id\"]}.npy'), [code_embedding.numpy(), comment_embedding.numpy()])\n",
    "\n",
    "          progress_bar.update(1)\n",
    "          pair_index += 1\n",
    "\n",
    "  def get(self, pair_id: str):\n",
    "    return np.load(os.path.join(self.dataset_dir, f'{pair_id}.npy'), allow_pickle=True)\n",
    "\n",
    "  def validate(self, pairs: List[MongoDbPairDoc]):\n",
    "    pairs_len = len(pairs)\n",
    "    if pairs_len > 100:\n",
    "      raise ValueError(\"The pairs length should be <= 100\")\n",
    "\n",
    "    random_index = random.randint(0, pairs_len - 1)\n",
    "    code_embeddings, comment_embeddings = next(self.embedding_generator.from_pairs(pairs))\n",
    "    [store_code_emb, store_comment_emb] = self.get(str(pairs[random_index][\"_id\"]))\n",
    "\n",
    "    correct_indexes = []\n",
    "    for index, (code_emb, comment_emb) in enumerate(zip(code_embeddings, comment_embeddings)):\n",
    "      is_correct = np.array_equal(code_emb, store_code_emb) and np.array_equal(comment_emb, store_comment_emb)\n",
    "      if is_correct:\n",
    "        correct_indexes.append(index)\n",
    "    \n",
    "    return len(correct_indexes) == 1 and correct_indexes[0] == random_index"
   ]
  },
  {
   "cell_type": "code",
   "execution_count": 6,
   "metadata": {},
   "outputs": [],
   "source": [
    "train_samples_count = 10000\n",
    "test_samples_count = 2000\n",
    "valid_samples_count = 2000\n",
    "db_client = MongoDbClient()\n",
    "embedding_dataset = EmbeddingDataset()"
   ]
  },
  {
   "cell_type": "code",
   "execution_count": 7,
   "metadata": {},
   "outputs": [],
   "source": [
    "def create_tf_dataset(pairs_ids: List[str]) -> tf.data.Dataset:\n",
    "  def dataset_generator():\n",
    "    for pair_id in pairs_ids:\n",
    "      [code_embedding, comment_embedding] = embedding_dataset.get(pair_id)\n",
    "\n",
    "      yield {\n",
    "        \"code_embedding\": code_embedding,\n",
    "        \"comment_embedding\": comment_embedding,\n",
    "      }\n",
    "  \n",
    "  return tf.data.Dataset.from_generator(dataset_generator, output_types={\n",
    "    \"code_embedding\": tf.float32, \n",
    "    \"comment_embedding\": tf.float32,\n",
    "  })"
   ]
  },
  {
   "cell_type": "code",
   "execution_count": 8,
   "metadata": {},
   "outputs": [
    {
     "name": "stderr",
     "output_type": "stream",
     "text": [
      "Saving 0 pairs into embedding dataset: 0it [00:00, ?it/s]\n",
      "Saving 0 pairs into embedding dataset: 0it [00:00, ?it/s]\n",
      "Saving 0 pairs into embedding dataset: 0it [00:00, ?it/s]\n"
     ]
    }
   ],
   "source": [
    "embedding_dataset.save(list(db_client.get_pairs_collection().find({ \"partition\": \"train\", \"language\": \"python\" }).limit(train_samples_count)))\n",
    "embedding_dataset.save(list(db_client.get_pairs_collection().find({ \"partition\": \"test\", \"language\": \"python\" }).limit(test_samples_count)))\n",
    "embedding_dataset.save(list(db_client.get_pairs_collection().find({ \"partition\": \"valid\", \"language\": \"python\" }).limit(valid_samples_count)))"
   ]
  },
  {
   "cell_type": "code",
   "execution_count": 9,
   "metadata": {},
   "outputs": [],
   "source": [
    "should_validate_embedding_dataset = False\n",
    "\n",
    "if should_validate_embedding_dataset:\n",
    "  is_train_correct = embedding_dataset.validate(list(db_client.get_pairs_collection().find({ \"partition\": \"train\", \"language\": \"python\" }).limit(10)))\n",
    "  is_test_correct = embedding_dataset.validate(list(db_client.get_pairs_collection().find({ \"partition\": \"test\", \"language\": \"python\" }).limit(10)))\n",
    "  is_valid_correct = embedding_dataset.validate(list(db_client.get_pairs_collection().find({ \"partition\": \"valid\", \"language\": \"python\" }).limit(10)))\n",
    "  print(f'is train dataset correct? {is_train_correct}') \n",
    "  print(f'is test dataset correct? {is_test_correct}') \n",
    "  print(f'is valid dataset correct? {is_valid_correct}') "
   ]
  },
  {
   "cell_type": "markdown",
   "metadata": {},
   "source": [
    "# Training the model"
   ]
  },
  {
   "cell_type": "code",
   "execution_count": 10,
   "metadata": {},
   "outputs": [],
   "source": [
    "NumDenseLayers = Literal[2, 4, 8]\n",
    "input_shape = (1024) # TODO: Use variables\n",
    "hidden_layer_activation = 'tanh'\n",
    "output_activation = 'sigmoid'\n",
    "dense_layers: Dict[NumDenseLayers, List] = {\n",
    "  2: [\n",
    "    Dense(100, activation=hidden_layer_activation),\n",
    "    Dense(50, activation=hidden_layer_activation),\n",
    "  ],\n",
    "  4: [\n",
    "    Dense(400, activation=hidden_layer_activation),\n",
    "    Dense(200, activation=hidden_layer_activation),\n",
    "    Dense(100, activation=hidden_layer_activation),\n",
    "    Dense(50, activation=hidden_layer_activation),\n",
    "  ], \n",
    "  8: [\n",
    "    Dense(800, activation=hidden_layer_activation),\n",
    "    Dense(600, activation=hidden_layer_activation),\n",
    "    Dense(500, activation=hidden_layer_activation),\n",
    "    Dense(400, activation=hidden_layer_activation),\n",
    "    Dense(300, activation=hidden_layer_activation),\n",
    "    Dense(200, activation=hidden_layer_activation),\n",
    "    Dense(100, activation=hidden_layer_activation),\n",
    "    Dense(50, activation=hidden_layer_activation),\n",
    "  ], \n",
    "}\n",
    "dropout_rate=0.1"
   ]
  },
  {
   "cell_type": "code",
   "execution_count": 11,
   "metadata": {},
   "outputs": [],
   "source": [
    "class ConstrastiveLoss(Loss):\n",
    "   def __init__(self, reduction=losses_utils.ReductionV2.AUTO, name=\"constrastive_loss\", margin=1):\n",
    "      self.margin = margin\n",
    "      super().__init__(reduction, name)\n",
    "\n",
    "   def call(self, y_true, y_pred):\n",
    "      square_pred = tf.math.square(y_pred)\n",
    "      margin_square = tf.math.square(tf.math.maximum(self.margin - (y_pred), 0))\n",
    "      return tf.math.reduce_mean(\n",
    "        (1 - y_true) * square_pred + (y_true) * margin_square\n",
    "      )\n",
    "\n",
    "def build_model(num_hidden_layers: NumDenseLayers):\n",
    "  code_input = Input(\n",
    "    shape=input_shape,\n",
    "    name=\"code_embedding\",\n",
    "  )\n",
    "  comment_input = Input(\n",
    "    shape=input_shape,\n",
    "    name=\"comment_embedding\",\n",
    "  )\n",
    "\n",
    "  concatenated_inputs = Concatenate()([code_input, comment_input])\n",
    "  hidden_layers = Sequential(dense_layers[num_hidden_layers], name=\"hidden_layers\")(concatenated_inputs)\n",
    "  output = Dense(1, activation=output_activation, name=\"output\")(hidden_layers)\n",
    "  model = Model(\n",
    "    inputs=[code_input, comment_input],\n",
    "    outputs=output,\n",
    "    name=\"embedding_comparator\"\n",
    "  )\n",
    "\n",
    "  model.compile(\n",
    "    optimizer=Adam(),\n",
    "    loss=ConstrastiveLoss(),\n",
    "    metrics=[\n",
    "      BinaryAccuracy(),\n",
    "      Precision(name=\"precision\"),\n",
    "      Recall(name=\"recall\"),\n",
    "      # f1_score, # TODO: Reactivate\n",
    "    ],\n",
    "  )\n",
    "\n",
    "  return model"
   ]
  },
  {
   "cell_type": "code",
   "execution_count": 13,
   "metadata": {},
   "outputs": [],
   "source": [
    "embedding_comparator = build_model(num_hidden_layers=2)\n",
    "tensor_board_callback = callbacks.TensorBoard(log_dir=f\"../logs/scalars/{datetime.now().strftime('%Y%m%d-%H%M%S')}\")\n",
    "\n",
    "train_pairs = [str(pair['_id']) for pair in list(db_client.get_pairs_collection().find({ \"partition\": \"train\", \"language\": \"python\" }).limit(train_samples_count))]\n",
    "valid_pairs = [str(pair['_id']) for pair in list(db_client.get_pairs_collection().find({ \"partition\": \"valid\", \"language\": \"python\" }).limit(valid_samples_count))]\n",
    "\n",
    "# def map_to_train(sample, target):\n",
    "#     return (sample, target)\n",
    "\n",
    "# positive_pairs = create_tf_dataset(train_pairs).map(lambda sample: map_to_train(sample, 1))\n",
    "# negative_pairs = positive_pairs.shuffle(buffer_size=int(train_samples_count * 0.4))\n",
    "# pairs_dataset = tf.data.Dataset.choose_from_datasets([positive_pairs, negative_pairs], [0, 1])\n",
    "# valid_pairs = create_tf_dataset(valid_pairs).map(lambda sample: map_to_train(sample, 1)).batch(100)\n",
    "\n",
    "# results = embedding_comparator.fit(\n",
    "#     pairs_dataset,\n",
    "#     validation_data=valid_pairs,\n",
    "#     epochs=10,\n",
    "#     callbacks=[tensor_board_callback],\n",
    "# )"
   ]
  },
  {
   "cell_type": "code",
   "execution_count": 21,
   "metadata": {},
   "outputs": [
    {
     "name": "stdout",
     "output_type": "stream",
     "text": [
      "equal pairs: 6\n"
     ]
    }
   ],
   "source": [
    "def set_sample_target(sample, target: int):\n",
    "  sample['target'] = target\n",
    "  return sample\n",
    "\n",
    "train_dataset = create_tf_dataset(train_pairs).map(lambda sample: set_sample_target(sample, 0))\n",
    "negative_pairs_ds = train_dataset.map(lambda sample: set_sample_target(sample, 1)).shuffle(buffer_size=int(train_samples_count * 0.2))\n",
    "\n",
    "is_equal_count = 0\n",
    "for positive, negative in zip(train_dataset, negative_pairs_ds):\n",
    "  is_equal = np.array_equal(positive['code_embedding'], negative['code_embedding']) and np.array_equal(positive['comment_embedding'], negative['comment_embedding'])\n",
    "  is_equal_count += 1 if is_equal else 0\n",
    "\n",
    "print(f'equal pairs: {is_equal_count}')\n"
   ]
  },
  {
   "cell_type": "code",
   "execution_count": 18,
   "metadata": {},
   "outputs": [
    {
     "name": "stdout",
     "output_type": "stream",
     "text": [
      "positive label: 0 negative target: 1\n",
      "positive label: 0 negative target: 1\n",
      "positive label: 0 negative target: 1\n",
      "positive label: 0 negative target: 1\n",
      "positive label: 0 negative target: 1\n",
      "positive label: 0 negative target: 1\n",
      "positive label: 0 negative target: 1\n",
      "positive label: 0 negative target: 1\n",
      "positive label: 0 negative target: 1\n",
      "positive label: 0 negative target: 1\n"
     ]
    }
   ],
   "source": [
    "x_with_target = x.map(lambda sample: set_sample_target(sample, 0))\n",
    "neg_x = x.map(lambda sample: set_sample_target(sample, 1))\n",
    "for positive, negative in zip(x_with_target.take(10), neg_x.take(10)):\n",
    "\n",
    "    print(f\"positive label: {positive['target']} negative target: {negative['target']}\" )\n"
   ]
  },
  {
   "cell_type": "code",
   "execution_count": 6,
   "metadata": {},
   "outputs": [
    {
     "name": "stdout",
     "output_type": "stream",
     "text": [
      "tf.Tensor(-1, shape=(), dtype=int64)\n",
      "tf.Tensor(0, shape=(), dtype=int64)\n",
      "tf.Tensor(0, shape=(), dtype=int64)\n",
      "tf.Tensor(1, shape=(), dtype=int64)\n",
      "tf.Tensor(-2, shape=(), dtype=int64)\n",
      "tf.Tensor(-3, shape=(), dtype=int64)\n",
      "tf.Tensor(2, shape=(), dtype=int64)\n",
      "tf.Tensor(3, shape=(), dtype=int64)\n",
      "tf.Tensor(4, shape=(), dtype=int64)\n",
      "tf.Tensor(5, shape=(), dtype=int64)\n",
      "tf.Tensor(6, shape=(), dtype=int64)\n",
      "tf.Tensor(-6, shape=(), dtype=int64)\n",
      "tf.Tensor(7, shape=(), dtype=int64)\n",
      "tf.Tensor(-9, shape=(), dtype=int64)\n",
      "tf.Tensor(8, shape=(), dtype=int64)\n",
      "tf.Tensor(-8, shape=(), dtype=int64)\n",
      "tf.Tensor(-4, shape=(), dtype=int64)\n",
      "tf.Tensor(-7, shape=(), dtype=int64)\n",
      "tf.Tensor(-5, shape=(), dtype=int64)\n",
      "tf.Tensor(9, shape=(), dtype=int64)\n"
     ]
    },
    {
     "name": "stderr",
     "output_type": "stream",
     "text": [
      "2023-08-25 18:52:28.436098: W tensorflow/core/platform/profile_utils/cpu_utils.cc:128] Failed to get CPU frequency: 0 Hz\n"
     ]
    }
   ],
   "source": [
    "import tensorflow as tf\n",
    "\n",
    "choice_dataset = tf.data.Dataset.range(2).repeat(10).shuffle(5)\n",
    "dataset = tf.data.Dataset.range(10)\n",
    "negative_ds = dataset.shuffle(5).map(lambda i: -i)\n",
    "\n",
    "all_data = tf.data.Dataset.choose_from_datasets([dataset, negative_ds], choice_dataset)\n",
    "\n",
    "for i in all_data:\n",
    "  print(i)"
   ]
  },
  {
   "cell_type": "code",
   "execution_count": 13,
   "metadata": {},
   "outputs": [],
   "source": [
    "def euclidean_distance(vects):\n",
    "  [x, y] = vects\n",
    "  sum_square = tf.math.reduce_sum(tf.math.square(x - y), axis=0)\n",
    "  distance = tf.math.sqrt(tf.math.maximum(sum_square, tf.keras.backend.epsilon()))\n",
    "  return distance\n",
    "\n",
    "def build_siamese_model():\n",
    "  code_embedding_input = Input(\n",
    "    shape=input_shape,\n",
    "    name=\"code_embedding\",\n",
    "  )\n",
    "  comment_embedding_input = Input(\n",
    "    shape=input_shape,\n",
    "    name=\"comment_embedding\",\n",
    "  )\n",
    "  similarity_score = Dot(normalize=True, axes=1)([code_embedding_input, comment_embedding_input])\n",
    "\n",
    "  # normal_layer = BatchNormalization()(concatenated_inputs)\n",
    "  output_layer = Dense(1, activation=\"sigmoid\")(similarity_score)\n",
    "  model = Model(inputs=[code_embedding_input, comment_embedding_input], outputs=output_layer, name=\"siamese_model\")\n",
    "  model.compile(\n",
    "    optimizer=Adam(),\n",
    "    loss=ConstrastiveLoss(),\n",
    "    metrics=[\n",
    "      BinaryAccuracy(),\n",
    "      Precision(name=\"precision\"),\n",
    "      Recall(name=\"recall\"),\n",
    "      # f1_score, # TODO: Reactivate\n",
    "    ],\n",
    "  )\n",
    "  return model"
   ]
  },
  {
   "cell_type": "code",
   "execution_count": null,
   "metadata": {},
   "outputs": [],
   "source": [
    "# siamese_model = build_siamese_model()\n",
    "# siamese_model.fit(\n",
    "#     pairs_dataset,\n",
    "#     validation_data=valid_pairs,\n",
    "#     epochs=10,\n",
    "#     callbacks=[tensor_board_callback],\n",
    "# )"
   ]
  },
  {
   "cell_type": "code",
   "execution_count": null,
   "metadata": {},
   "outputs": [],
   "source": [
    "# test_pairs = [str(pair['_id']) for pair in list(db_client.get_pairs_collection().find({ \"partition\": \"train\", \"language\": \"python\" }).limit(test_samples_count))]\n",
    "# test_dataset = create_tf_dataset(test_pairs, for_training=False).batch(100)\n",
    "\n",
    "# predicts = siamese_model.predict(test_dataset)\n",
    "# predicts"
   ]
  },
  {
   "cell_type": "code",
   "execution_count": 14,
   "metadata": {},
   "outputs": [],
   "source": [
    "import matplotlib.pyplot as plt\n",
    "\n",
    "def plot_embedding_sample(sample):\n",
    "  fig, axs = plt.subplots(ncols=2, nrows=1)\n",
    "  code_axs = axs[0]\n",
    "  comment_axs = axs[1]\n",
    "\n",
    "  code_axs.plot(sample['code_embedding'], label=\"code\", color=\"blue\")\n",
    "  comment_axs.plot(sample['comment_embedding'], label=\"comment\", color=\"orange\")\n",
    "  fig.legend()\n",
    "  \n",
    "  return fig"
   ]
  },
  {
   "cell_type": "code",
   "execution_count": 15,
   "metadata": {},
   "outputs": [],
   "source": [
    "pair = MongoDbClient().get_pairs_collection().find_one({\"language\": \"python\", \"partition\": \"train\" })\n",
    "if pair is None:\n",
    "    raise ValueError(\"Not found\")\n",
    "\n",
    "[code, comment] = EmbeddingGenerator().from_pairs([pair])"
   ]
  },
  {
   "cell_type": "code",
   "execution_count": 16,
   "metadata": {},
   "outputs": [
    {
     "name": "stderr",
     "output_type": "stream",
     "text": [
      "/var/folders/ym/hn614bsx1nzg_btp2v5m6syh0000gp/T/ipykernel_90256/720308037.py:5: UserWarning: Matplotlib is currently using module://matplotlib_inline.backend_inline, which is a non-GUI backend, so cannot show the figure.\n",
      "  fig.show()\n"
     ]
    },
    {
     "data": {
      "image/png": "[encoded data removed]",
      "text/plain": [
       "<Figure size 640x480 with 2 Axes>"
      ]
     },
     "metadata": {},
     "output_type": "display_data"
    }
   ],
   "source": [
    "fig = plot_embedding_sample({\n",
    "    \"code_embedding\": code.numpy()[0],\n",
    "    \"comment_embedding\": comment.numpy()[0],\n",
    "})\n",
    "fig.show()"
   ]
  }
 ],
 "metadata": {
  "kernelspec": {
   "display_name": "base",
   "language": "python",
   "name": "python3"
  },
  "language_info": {
   "codemirror_mode": {
    "name": "ipython",
    "version": 3
   },
   "file_extension": ".py",
   "mimetype": "text/x-python",
   "name": "python",
   "nbconvert_exporter": "python",
   "pygments_lexer": "ipython3",
   "version": "3.10.9"
  },
  "orig_nbformat": 4
 },
 "nbformat": 4,
 "nbformat_minor": 2
}
