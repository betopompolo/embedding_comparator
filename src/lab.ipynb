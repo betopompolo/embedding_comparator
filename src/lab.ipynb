{
 "cells": [
  {
   "cell_type": "code",
   "execution_count": 3,
   "metadata": {},
   "outputs": [],
   "source": [
    "my_tuple = (1, 2, 3)\n",
    "my_list = list(my_tuple)"
   ]
  },
  {
   "cell_type": "code",
   "execution_count": 4,
   "metadata": {},
   "outputs": [
    {
     "data": {
      "text/plain": [
       "[1, 2, 3]"
      ]
     },
     "execution_count": 4,
     "metadata": {},
     "output_type": "execute_result"
    }
   ],
   "source": [
    "my_list"
   ]
  },
  {
   "cell_type": "code",
   "execution_count": 5,
   "metadata": {},
   "outputs": [],
   "source": [
    "\n",
    "dataset_len = {\n",
    "  \"test\": {\n",
    "    \"java\": 26880,\n",
    "    \"python\": 22144\n",
    "  },\n",
    "  \"train\": {\n",
    "    \"java\": 454451,\n",
    "    \"python\": 412178\n",
    "  },\n",
    "  \"valid\": {\n",
    "    \"java\": 15296,\n",
    "    \"python\": 23104\n",
    "  }\n",
    "}\n",
    "training_samples_count = sum(dataset_len['train'].values())\n",
    "batch_size = 128\n",
    "total = training_samples_count * 2"
   ]
  },
  {
   "cell_type": "code",
   "execution_count": 9,
   "metadata": {},
   "outputs": [
    {
     "name": "stdout",
     "output_type": "stream",
     "text": [
      "it will take about 230197s or 3836.616666666667min or 63.94361111111111\n"
     ]
    }
   ],
   "source": [
    "batch_count = int(total / batch_size)\n",
    "eta = batch_count * 17\n",
    "print(f'it will take about {eta}s or {eta / 60}min or {eta / 3600}h')"
   ]
  },
  {
   "cell_type": "code",
   "execution_count": 11,
   "metadata": {},
   "outputs": [
    {
     "data": {
      "text/plain": [
       "13541"
      ]
     },
     "execution_count": 11,
     "metadata": {},
     "output_type": "execute_result"
    }
   ],
   "source": [
    "batch_count"
   ]
  },
  {
   "cell_type": "code",
   "execution_count": null,
   "metadata": {},
   "outputs": [],
   "source": []
  }
 ],
 "metadata": {
  "kernelspec": {
   "display_name": "base",
   "language": "python",
   "name": "python3"
  },
  "language_info": {
   "codemirror_mode": {
    "name": "ipython",
    "version": 3
   },
   "file_extension": ".py",
   "mimetype": "text/x-python",
   "name": "python",
   "nbconvert_exporter": "python",
   "pygments_lexer": "ipython3",
   "version": "3.10.9"
  },
  "orig_nbformat": 4
 },
 "nbformat": 4,
 "nbformat_minor": 2
}
